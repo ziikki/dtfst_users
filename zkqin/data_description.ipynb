{
 "cells": [
  {
   "cell_type": "code",
   "execution_count": 1,
   "metadata": {},
   "outputs": [],
   "source": [
    "import numpy as np\n",
    "import pandas as pd"
   ]
  },
  {
   "cell_type": "markdown",
   "metadata": {},
   "source": [
    "## Import Data"
   ]
  },
  {
   "cell_type": "code",
   "execution_count": 2,
   "metadata": {},
   "outputs": [],
   "source": [
    "indeed = pd.read_csv('data/datafest2018.csv')"
   ]
  },
  {
   "cell_type": "code",
   "execution_count": 3,
   "metadata": {},
   "outputs": [],
   "source": [
    "indeed_p = pd.read_csv('data/100000_sample.csv')"
   ]
  },
  {
   "cell_type": "code",
   "execution_count": null,
   "metadata": {},
   "outputs": [],
   "source": []
  },
  {
   "cell_type": "code",
   "execution_count": 17,
   "metadata": {},
   "outputs": [
    {
     "data": {
      "text/plain": [
       "date                                 0\n",
       "companyId                            0\n",
       "jobId                                0\n",
       "country                              0\n",
       "stateProvince                        0\n",
       "city                            348239\n",
       "avgOverallRating                   301\n",
       "numReviews                     9374619\n",
       "industry                      15817476\n",
       "normTitle                      1593057\n",
       "normTitleCategory              1593057\n",
       "descriptionCharacterLength           0\n",
       "descriptionWordCount                 0\n",
       "experienceRequired            11002733\n",
       "estimatedSalary                      0\n",
       "salaryCurrency                14641267\n",
       "jobLanguage                          0\n",
       "supervisingJob                 2164079\n",
       "licenseRequiredJob             2164079\n",
       "educationRequirement           2164079\n",
       "jobAgeDays                           0\n",
       "clicks                               0\n",
       "localClicks                          0\n",
       "dtype: int64"
      ]
     },
     "execution_count": 17,
     "metadata": {},
     "output_type": "execute_result"
    }
   ],
   "source": [
    "indeed.isnull().sum()"
   ]
  },
  {
   "cell_type": "code",
   "execution_count": 5,
   "metadata": {},
   "outputs": [
    {
     "data": {
      "text/plain": [
       "'2017-11-30'"
      ]
     },
     "execution_count": 5,
     "metadata": {},
     "output_type": "execute_result"
    }
   ],
   "source": [
    "indeed.date.max()"
   ]
  },
  {
   "cell_type": "code",
   "execution_count": null,
   "metadata": {},
   "outputs": [],
   "source": [
    "indeed.city.dropna()"
   ]
  },
  {
   "cell_type": "code",
   "execution_count": 17,
   "metadata": {},
   "outputs": [
    {
     "data": {
      "text/plain": [
       "131838"
      ]
     },
     "execution_count": 17,
     "metadata": {},
     "output_type": "execute_result"
    }
   ],
   "source": [
    "(indeed.stateProvince=='UNKNOWN').sum()"
   ]
  },
  {
   "cell_type": "code",
   "execution_count": 40,
   "metadata": {},
   "outputs": [],
   "source": [
    "city_list = indeed.city.dropna()"
   ]
  },
  {
   "cell_type": "code",
   "execution_count": 43,
   "metadata": {},
   "outputs": [],
   "source": [
    "city_list = city_list.apply(lambda x: x.lower()).unique()"
   ]
  },
  {
   "cell_type": "code",
   "execution_count": null,
   "metadata": {},
   "outputs": [],
   "source": []
  },
  {
   "cell_type": "code",
   "execution_count": null,
   "metadata": {},
   "outputs": [],
   "source": []
  },
  {
   "cell_type": "code",
   "execution_count": 26,
   "metadata": {},
   "outputs": [
    {
     "data": {
      "text/plain": [
       "2"
      ]
     },
     "execution_count": 26,
     "metadata": {},
     "output_type": "execute_result"
    }
   ],
   "source": [
    "indeed.descriptionWordCount.min()"
   ]
  },
  {
   "cell_type": "code",
   "execution_count": 25,
   "metadata": {},
   "outputs": [
    {
     "data": {
      "text/plain": [
       "array(['EN', 'DE', 'FR'], dtype=object)"
      ]
     },
     "execution_count": 25,
     "metadata": {},
     "output_type": "execute_result"
    }
   ],
   "source": [
    "indeed.jobLanguage.unique()"
   ]
  },
  {
   "cell_type": "markdown",
   "metadata": {},
   "source": [
    "## Company v.s. Job "
   ]
  },
  {
   "cell_type": "code",
   "execution_count": null,
   "metadata": {},
   "outputs": [],
   "source": []
  },
  {
   "cell_type": "code",
   "execution_count": 51,
   "metadata": {},
   "outputs": [
    {
     "data": {
      "text/plain": [
       "companyId     country  stateProvince\n",
       "company00000  US       TX                 1\n",
       "company00001  US       MA                97\n",
       "company00002  US       DC                 1\n",
       "                       FL                 1\n",
       "company00003  CA       AB                24\n",
       "                       BC                41\n",
       "                       MB                 8\n",
       "                       NB                 2\n",
       "                       NL                 3\n",
       "                       NS                 3\n",
       "                       ON                97\n",
       "                       PE                 2\n",
       "                       QC                21\n",
       "                       SK                 4\n",
       "              US       AK                 3\n",
       "                       AL                21\n",
       "                       AR                 7\n",
       "                       AZ                46\n",
       "                       CA               200\n",
       "                       CO                39\n",
       "                       CT                19\n",
       "                       DE                 4\n",
       "                       FL               138\n",
       "                       GA               125\n",
       "                       HI                 5\n",
       "                       IA                 9\n",
       "                       ID                14\n",
       "                       IL                69\n",
       "                       IN                15\n",
       "                       KS                20\n",
       "                                       ... \n",
       "company99981  US       GA                 1\n",
       "                       KS                 2\n",
       "                       MA                 1\n",
       "                       PA                 1\n",
       "company99982  CA       ON                 1\n",
       "company99983  US       MD                 2\n",
       "                       TX                 1\n",
       "company99984  DE       BB                 4\n",
       "                       ST                 2\n",
       "company99985  DE       NW                 1\n",
       "company99986  US       CT                 1\n",
       "company99987  US       CA                 1\n",
       "company99988  CA       AB                 1\n",
       "company99989  US       MO                 1\n",
       "company99990  US       MN                 1\n",
       "company99991  US       TX                 1\n",
       "company99992  US       CO                 1\n",
       "company99993  US       CA                 1\n",
       "                       MA                 1\n",
       "                       MI                 2\n",
       "                       NY                 2\n",
       "                       PA                 1\n",
       "                       SC                 1\n",
       "                       WI                 1\n",
       "company99994  US       MI                 4\n",
       "company99995  DE       BY                 1\n",
       "company99996  US       WI                 1\n",
       "company99997  CA       AB                 1\n",
       "company99998  US       CA                 1\n",
       "company99999  US       FL                 1\n",
       "Name: jobId, Length: 390137, dtype: int64"
      ]
     },
     "execution_count": 51,
     "metadata": {},
     "output_type": "execute_result"
    }
   ],
   "source": [
    "indeed.groupby(['companyId','country','stateProvince'])['jobId'].agg('nunique')"
   ]
  },
  {
   "cell_type": "code",
   "execution_count": null,
   "metadata": {},
   "outputs": [],
   "source": []
  },
  {
   "cell_type": "code",
   "execution_count": 46,
   "metadata": {},
   "outputs": [
    {
     "data": {
      "text/plain": [
       "companyId     jobId     \n",
       "company00000  job0000000      37\n",
       "company00001  job0000001      54\n",
       "              job0000070      39\n",
       "              job0003468     494\n",
       "              job0013295     591\n",
       "              job0018408    1078\n",
       "              job0032246     287\n",
       "              job0049452     571\n",
       "              job0057213     274\n",
       "              job0060862     241\n",
       "              job0094747     742\n",
       "              job0095981     969\n",
       "              job0120450     320\n",
       "              job0122918     746\n",
       "              job0130841    1095\n",
       "              job0133529    1203\n",
       "              job0143853    1192\n",
       "              job0171653     148\n",
       "              job0180410    4874\n",
       "              job0202154    1092\n",
       "              job0210898      80\n",
       "              job0225580    1274\n",
       "              job0227715     268\n",
       "              job0232420     359\n",
       "              job0264991      68\n",
       "              job0267698      69\n",
       "              job0277008     544\n",
       "              job0291289     682\n",
       "              job0291290     752\n",
       "              job0293632    1302\n",
       "                            ... \n",
       "company99984  job0322256     564\n",
       "              job0437723      99\n",
       "              job0629185     153\n",
       "              job0674088      79\n",
       "company99985  job0236095     162\n",
       "company99986  job0236096    1936\n",
       "company99987  job0236099     674\n",
       "company99988  job0236100    3200\n",
       "company99989  job0236101     430\n",
       "company99990  job0236104     268\n",
       "company99991  job0236106    1206\n",
       "company99992  job0236108     637\n",
       "company99993  job0236112     171\n",
       "              job0516362      54\n",
       "              job0745724     141\n",
       "              job0834707     119\n",
       "              job0884063      31\n",
       "              job0890567      73\n",
       "              job0968774      40\n",
       "              job1001743      44\n",
       "              job1009652      22\n",
       "company99994  job0236114     316\n",
       "              job0280367    1394\n",
       "              job0588096     529\n",
       "              job0670882     266\n",
       "company99995  job0236116     221\n",
       "company99996  job0236117     923\n",
       "company99997  job0236118     210\n",
       "company99998  job0236119     343\n",
       "company99999  job0236122     181\n",
       "Name: clicks, Length: 1084664, dtype: int64"
      ]
     },
     "execution_count": 46,
     "metadata": {},
     "output_type": "execute_result"
    }
   ],
   "source": [
    "indeed.groupby(['companyId','jobId'])['clicks'].agg('sum')"
   ]
  },
  {
   "cell_type": "code",
   "execution_count": null,
   "metadata": {},
   "outputs": [],
   "source": []
  },
  {
   "cell_type": "markdown",
   "metadata": {},
   "source": [
    "## Most Needed Job/Categories Year/Months"
   ]
  },
  {
   "cell_type": "code",
   "execution_count": null,
   "metadata": {},
   "outputs": [],
   "source": [
    "# overall clicks/local clicks"
   ]
  },
  {
   "cell_type": "code",
   "execution_count": null,
   "metadata": {},
   "outputs": [],
   "source": [
    "# job listing with most clicks\n",
    "indeed"
   ]
  },
  {
   "cell_type": "code",
   "execution_count": null,
   "metadata": {},
   "outputs": [],
   "source": [
    "# job category with most clicks"
   ]
  },
  {
   "cell_type": "code",
   "execution_count": null,
   "metadata": {},
   "outputs": [],
   "source": [
    "# job title with most clicks"
   ]
  },
  {
   "cell_type": "code",
   "execution_count": null,
   "metadata": {},
   "outputs": [],
   "source": [
    "# salary "
   ]
  },
  {
   "cell_type": "code",
   "execution_count": null,
   "metadata": {},
   "outputs": [],
   "source": [
    "# job listing with highest salary / average"
   ]
  },
  {
   "cell_type": "code",
   "execution_count": null,
   "metadata": {},
   "outputs": [],
   "source": [
    "# job category with highest salary"
   ]
  },
  {
   "cell_type": "code",
   "execution_count": null,
   "metadata": {},
   "outputs": [],
   "source": [
    "# job title with highest salary"
   ]
  },
  {
   "cell_type": "code",
   "execution_count": null,
   "metadata": {},
   "outputs": [],
   "source": [
    "# quantity"
   ]
  },
  {
   "cell_type": "code",
   "execution_count": null,
   "metadata": {},
   "outputs": [],
   "source": [
    "# job listing with most needs "
   ]
  },
  {
   "cell_type": "code",
   "execution_count": null,
   "metadata": {},
   "outputs": [],
   "source": [
    "# job category with highest salary"
   ]
  },
  {
   "cell_type": "code",
   "execution_count": null,
   "metadata": {},
   "outputs": [],
   "source": [
    "# job title with highest salary"
   ]
  },
  {
   "cell_type": "code",
   "execution_count": null,
   "metadata": {},
   "outputs": [],
   "source": []
  },
  {
   "cell_type": "code",
   "execution_count": null,
   "metadata": {},
   "outputs": [],
   "source": []
  }
 ],
 "metadata": {
  "kernelspec": {
   "display_name": "Python 3",
   "language": "python",
   "name": "python3"
  },
  "language_info": {
   "codemirror_mode": {
    "name": "ipython",
    "version": 3
   },
   "file_extension": ".py",
   "mimetype": "text/x-python",
   "name": "python",
   "nbconvert_exporter": "python",
   "pygments_lexer": "ipython3",
   "version": "3.6.5"
  }
 },
 "nbformat": 4,
 "nbformat_minor": 2
}
